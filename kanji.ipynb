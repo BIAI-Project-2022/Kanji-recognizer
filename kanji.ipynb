{
 "cells": [
  {
   "cell_type": "code",
   "execution_count": 2,
   "metadata": {},
   "outputs": [
    {
     "ename": "FileNotFoundError",
     "evalue": "[Errno 2] No such file or directory: 'ETL8G/ETL8G_01'",
     "output_type": "error",
     "traceback": [
      "\u001b[1;31m---------------------------------------------------------------------------\u001b[0m",
      "\u001b[1;31mFileNotFoundError\u001b[0m                         Traceback (most recent call last)",
      "\u001b[1;32md:\\Kanji-recognizer\\kanji.ipynb Cell 1'\u001b[0m in \u001b[0;36m<cell line: 26>\u001b[1;34m()\u001b[0m\n\u001b[0;32m     <a href='vscode-notebook-cell:/d%3A/Kanji-recognizer/kanji.ipynb#ch0000000?line=22'>23</a>\u001b[0m                         char \u001b[39m+\u001b[39m\u001b[39m=\u001b[39m \u001b[39m1\u001b[39m\n\u001b[0;32m     <a href='vscode-notebook-cell:/d%3A/Kanji-recognizer/kanji.ipynb#ch0000000?line=23'>24</a>\u001b[0m     np\u001b[39m.\u001b[39msavez_compressed(\u001b[39m\"\u001b[39m\u001b[39mkanji.npz\u001b[39m\u001b[39m\"\u001b[39m, kanji)\n\u001b[1;32m---> <a href='vscode-notebook-cell:/d%3A/Kanji-recognizer/kanji.ipynb#ch0000000?line=25'>26</a>\u001b[0m read_kanji()\n",
      "\u001b[1;32md:\\Kanji-recognizer\\kanji.ipynb Cell 1'\u001b[0m in \u001b[0;36mread_kanji\u001b[1;34m()\u001b[0m\n\u001b[0;32m     <a href='vscode-notebook-cell:/d%3A/Kanji-recognizer/kanji.ipynb#ch0000000?line=13'>14</a>\u001b[0m \u001b[39mfor\u001b[39;00m i \u001b[39min\u001b[39;00m \u001b[39mrange\u001b[39m(\u001b[39m1\u001b[39m, \u001b[39m33\u001b[39m):\n\u001b[0;32m     <a href='vscode-notebook-cell:/d%3A/Kanji-recognizer/kanji.ipynb#ch0000000?line=14'>15</a>\u001b[0m     filename \u001b[39m=\u001b[39m \u001b[39m'\u001b[39m\u001b[39mETL8G/ETL8G_\u001b[39m\u001b[39m{:02d}\u001b[39;00m\u001b[39m'\u001b[39m\u001b[39m.\u001b[39mformat(i)\n\u001b[1;32m---> <a href='vscode-notebook-cell:/d%3A/Kanji-recognizer/kanji.ipynb#ch0000000?line=15'>16</a>\u001b[0m     \u001b[39mwith\u001b[39;00m \u001b[39mopen\u001b[39;49m(filename, \u001b[39m'\u001b[39;49m\u001b[39mrb\u001b[39;49m\u001b[39m'\u001b[39;49m) \u001b[39mas\u001b[39;00m f:\n\u001b[0;32m     <a href='vscode-notebook-cell:/d%3A/Kanji-recognizer/kanji.ipynb#ch0000000?line=16'>17</a>\u001b[0m         \u001b[39mfor\u001b[39;00m dataset \u001b[39min\u001b[39;00m \u001b[39mrange\u001b[39m(\u001b[39m5\u001b[39m):\n\u001b[0;32m     <a href='vscode-notebook-cell:/d%3A/Kanji-recognizer/kanji.ipynb#ch0000000?line=17'>18</a>\u001b[0m             char \u001b[39m=\u001b[39m \u001b[39m0\u001b[39m\n",
      "\u001b[1;31mFileNotFoundError\u001b[0m: [Errno 2] No such file or directory: 'ETL8G/ETL8G_01'"
     ]
    }
   ],
   "source": [
    "import struct\n",
    "from PIL import Image\n",
    "import numpy as np\n",
    "\n",
    "def read_record_ETL8G(f):\n",
    "    s = f.read(8199)\n",
    "    r = struct.unpack('>2H8sI4B4H2B30x8128s11x', s)\n",
    "    iF = Image.frombytes('F', (128, 127), r[14], 'bit', 4)\n",
    "    iL = iF.convert('L')\n",
    "    return r + (iL,)\n",
    "\n",
    "def read_kanji():\n",
    "    kanji = np.zeros([883, 160, 127, 128], dtype=np.uint8)\n",
    "    for i in range(1, 33):\n",
    "        filename = 'ETL8G/ETL8G_{:02d}'.format(i)\n",
    "        with open(filename, 'rb') as f:\n",
    "            for dataset in range(5):\n",
    "                char = 0\n",
    "                for j in range(956):\n",
    "                    r = read_record_ETL8G(f)\n",
    "                    if not (b'.HIRA' in r[2] or b'.WO.' in r[2]): \n",
    "                        kanji[char, (i - 1) * 5 + dataset] = np.array(r[-1])\n",
    "                        char += 1\n",
    "    np.savez_compressed(\"kanji.npz\", kanji)\n",
    "\n",
    "read_kanji()"
   ]
  },
  {
   "cell_type": "code",
   "execution_count": null,
   "metadata": {},
   "outputs": [
    {
     "ename": "",
     "evalue": "",
     "output_type": "error",
     "traceback": [
      "\u001b[1;31mRunning cells with 'Python 3.8.5 64-bit (system)' requires ipykernel package.\n",
      "Run the following command to install 'ipykernel' into the Python environment. \n",
      "Command: '\"c:/Program Files/Inkscape/bin/python.exe\" -m pip install ipykernel -U --user --force-reinstall'"
     ]
    },
    {
     "ename": "",
     "evalue": "",
     "output_type": "error",
     "traceback": [
      "\u001b[1;31mRunning cells with 'Python 3.8.5 64-bit (system)' requires ipykernel package.\n",
      "Run the following command to install 'ipykernel' into the Python environment. \n",
      "Command: '\"c:/Program Files/Inkscape/bin/python.exe\" -m pip install ipykernel -U --user --force-reinstall'"
     ]
    }
   ],
   "source": [
    "import skimage.transform\n",
    "import numpy as np\n",
    "from sklearn.model_selection import train_test_split\n",
    "\n",
    "kanji = 879\n",
    "rows = 48\n",
    "cols = 48\n",
    "\n",
    "kan = np.load(\"kanji.npz\")['arr_0'].reshape([-1, 127, 128]).astype(np.float32)\n",
    "\n",
    "kan = kan/np.max(kan)\n",
    "\n",
    "train_images = np.zeros([kanji * 160, rows, cols], dtype=np.float32)\n",
    "\n",
    "arr = np.arange(kanji)\n",
    "train_labels = np.repeat(arr, 160)\n",
    "\n",
    "# 4 characters were actually hiragana, so delete these 4 extras\n",
    "for i in range( (kanji+4) * 160):\n",
    "\tif int(i/160) != 88 and int(i/160) != 219 and int(i/160) != 349 and int(i/160) != 457:\n",
    "\t\tif int(i/160) < 88:\n",
    "\t\t\ttrain_images[i] = skimage.transform.resize(kan[i], (rows, cols))\n",
    "\t\tif int(i/160) > 88 and int(i/160) < 219:\n",
    "\t\t\ttrain_images[i-160] = skimage.transform.resize(kan[i], (rows, cols))\n",
    "\t\tif int(i/160) > 219 and int(i/160) < 349:\n",
    "\t\t\ttrain_images[i-320] = skimage.transform.resize(kan[i], (rows, cols))\n",
    "\t\tif int(i/160) > 349 and int(i/160) < 457:\n",
    "\t\tif int(i/160) > 457:\n",
    "\t\t\ttrain_images[i-640] = skimage.transform.resize(kan[i], (rows, cols))\n",
    "      \n",
    "train_images, test_images, train_labels, test_labels = train_test_split(train_images, train_labels, test_size=0.2)\n",
    "\n",
    "np.savez_compressed(\"kanji_train_images.npz\", train_images)\n",
    "np.savez_compressed(\"kanji_train_labels.npz\", train_labels)\n",
    "np.savez_compressed(\"kanji_test_images.npz\", test_images)\n",
    "np.savez_compressed(\"kanji_test_labels.npz\", test_labels)"
   ]
  },
  {
   "cell_type": "code",
   "execution_count": null,
   "metadata": {},
   "outputs": [
    {
     "ename": "",
     "evalue": "",
     "output_type": "error",
     "traceback": [
      "\u001b[1;31mRunning cells with 'Python 3.8.5 64-bit (system)' requires ipykernel package.\n",
      "Run the following command to install 'ipykernel' into the Python environment. \n",
      "Command: '\"c:/Program Files/Inkscape/bin/python.exe\" -m pip install ipykernel -U --user --force-reinstall'"
     ]
    },
    {
     "ename": "",
     "evalue": "",
     "output_type": "error",
     "traceback": [
      "\u001b[1;31mRunning cells with 'Python 3.8.5 64-bit (system)' requires ipykernel package.\n",
      "Run the following command to install 'ipykernel' into the Python environment. \n",
      "Command: '\"c:/Program Files/Inkscape/bin/python.exe\" -m pip install ipykernel -U --user --force-reinstall'"
     ]
    }
   ],
   "source": [
    "import matplotlib.pyplot as plt\n",
    "plt.figure(figsize=(6,6)).patch.set_facecolor('color_name')\n",
    "for i in range(25):\n",
    "    plt.subplot(5,5,i+1)\n",
    "    plt.xticks([])\n",
    "    plt.yticks([])\n",
    "    plt.grid(False)\n",
    "    plt.imshow(train_images[i], cmap=plt.cm.binary)\n",
    "plt.show()"
   ]
  }
 ],
 "metadata": {
  "interpreter": {
   "hash": "a7b0697c8f72e05eacc43c039758bfe68a7301eff1019ebd29891521eba66bbf"
  },
  "kernelspec": {
   "display_name": "Python 3.8.5 64-bit",
   "language": "python",
   "name": "python3"
  },
  "language_info": {
   "codemirror_mode": {
    "name": "ipython",
    "version": 3
   },
   "file_extension": ".py",
   "mimetype": "text/x-python",
   "name": "python",
   "nbconvert_exporter": "python",
   "pygments_lexer": "ipython3",
   "version": "3.8.5"
  },
  "orig_nbformat": 4
 },
 "nbformat": 4,
 "nbformat_minor": 2
}
