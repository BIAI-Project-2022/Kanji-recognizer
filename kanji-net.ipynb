{
  "metadata": {
    "language_info": {
      "codemirror_mode": {
        "name": "python",
        "version": 3
      },
      "file_extension": ".py",
      "mimetype": "text/x-python",
      "name": "python",
      "nbconvert_exporter": "python",
      "pygments_lexer": "ipython3",
      "version": "3.8"
    },
    "kernelspec": {
      "name": "python",
      "display_name": "Pyolite",
      "language": "python"
    }
  },
  "nbformat_minor": 4,
  "nbformat": 4,
  "cells": [
    {
      "cell_type": "code",
      "source": "import struct\nfrom PIL import Image\nimport numpy as np\nimport pandas as pd\n\ndef read_record_ETL8G(f):\n    s = f.read(8199)\n    r = struct.unpack('>2H8sI4B4H2B30x8128s11x', s)\n    iF = Image.frombytes('F', (128, 127), r[14], 'bit', 4)\n    iL = iF.convert('L')\n    return r + (iL,)\n\ndef read_kanji():\n    kanji = pd.zeros([883, 160, 127, 128], dtype=pd.uint8)\n    for i in range(1, 33):\n        filename = 'ETL8G/ETL8G_{:02d}'.format(i)\n        with open(filename, 'rb') as f:\n            for dataset in range(5):\n                char = 0\n                for j in range(956):\n                    r = read_record_ETL8G(f)\n                    if not (b'.HIRA' in r[2] or b'.WO.' in r[2]): \n                        kanji[char, (i - 1) * 5 + dataset] = pd.array(r[-1])\n                        char += 1\n    np.savez_compressed(\"kanji.npz\", kanji)\n\nread_kanji()",
      "metadata": {
        "trusted": true
      },
      "execution_count": null,
      "outputs": []
    },
    {
      "cell_type": "code",
      "source": "import skimage.transform\nimport numpy as np\nfrom sklearn.model_selection import train_test_split\n\nkanji = 879\nrows = 48\ncols = 48\n\nkan = np.load(\"kanji.npz\")['arr_0'].reshape([-1, 127, 128]).astype(np.float32)\n\nkan = kan/np.max(kan)\n\ntrain_images = np.zeros([kanji * 160, rows, cols], dtype=np.float32)\n\narr = np.arange(kanji)\ntrain_labels = np.repeat(arr, 160)\n\n# 4 characters were actually hiragana, so delete these 4 extras\nfor i in range( (kanji+4) * 160):\n\tif int(i/160) != 88 and int(i/160) != 219 and int(i/160) != 349 and int(i/160) != 457:\n\t\tif int(i/160) < 88:\n\t\t\ttrain_images[i] = skimage.transform.resize(kan[i], (rows, cols))\n\t\tif int(i/160) > 88 and int(i/160) < 219:\n\t\t\ttrain_images[i-160] = skimage.transform.resize(kan[i], (rows, cols))\n\t\tif int(i/160) > 219 and int(i/160) < 349:\n\t\t\ttrain_images[i-320] = skimage.transform.resize(kan[i], (rows, cols))\n\t\tif int(i/160) > 349 and int(i/160) < 457:\n            if int(i/160) > 457:\n                train_images[i-640] = skimage.transform.resize(kan[i], (rows, cols))\n      \ntrain_images, test_images, train_labels, test_labels = train_test_split(train_images, train_labels, test_size=0.2)\n\nnp.savez_compressed(\"kanji_train_images.npz\", train_images)\nnp.savez_compressed(\"kanji_train_labels.npz\", train_labels)\nnp.savez_compressed(\"kanji_test_images.npz\", test_images)\nnp.savez_compressed(\"kanji_test_labels.npz\", test_labels)",
      "metadata": {
        "trusted": true
      },
      "execution_count": null,
      "outputs": []
    },
    {
      "cell_type": "code",
      "source": "import matplotlib.pyplot as plt\nplt.figure(figsize=(6,6)).patch.set_facecolor('color_name')\nfor i in range(25):\n    plt.subplot(5,5,i+1)\n    plt.xticks([])\n    plt.yticks([])\n    plt.grid(False)\n    plt.imshow(train_images[i], cmap=plt.cm.binary)\nplt.show()",
      "metadata": {
        "trusted": true
      },
      "execution_count": null,
      "outputs": []
    },
    {
      "cell_type": "code",
      "source": "",
      "metadata": {},
      "execution_count": null,
      "outputs": []
    }
  ]
}